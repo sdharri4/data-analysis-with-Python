{
 "cells": [
  {
   "cell_type": "markdown",
   "metadata": {},
   "source": [
    "# Coding Exercises (Part 2)"
   ]
  },
  {
   "cell_type": "markdown",
   "metadata": {},
   "source": [
    "Now, you will have the opportunity to practice what you have learned. <br>\n",
    "__Follow the instructions__ and insert your code! "
   ]
  },
  {
   "cell_type": "markdown",
   "metadata": {},
   "source": [
    "The correct answer is provided below your coding cell. There you can check whether your code is correct."
   ]
  },
  {
   "cell_type": "markdown",
   "metadata": {},
   "source": [
    "If you need some help or if you want to check your code, you can also have a look at the __solutions__."
   ]
  },
  {
   "cell_type": "markdown",
   "metadata": {},
   "source": [
    "### Have Fun!"
   ]
  },
  {
   "cell_type": "markdown",
   "metadata": {},
   "source": [
    "--------------------------------------------------------------------------------------------------------------"
   ]
  },
  {
   "cell_type": "markdown",
   "metadata": {},
   "source": [
    "## Exercise 1: Descriptive Statistics"
   ]
  },
  {
   "cell_type": "markdown",
   "metadata": {},
   "source": [
    "1. Import numpy and the S&P500 price returns (in %) for the year 2018 for the complete population (size = 500) as well as for a random sample (sample size = 50). "
   ]
  },
  {
   "cell_type": "code",
   "execution_count": 11,
   "metadata": {},
   "outputs": [],
   "source": [
    "# run the cell\n",
    "import numpy as np\n",
    "np.set_printoptions(precision=2, suppress= True)"
   ]
  },
  {
   "cell_type": "code",
   "execution_count": 12,
   "metadata": {},
   "outputs": [],
   "source": [
    "# run the cell\n",
    "pop = np.loadtxt(\"SP500_2018.csv\", delimiter = \",\", usecols = 1)"
   ]
  },
  {
   "cell_type": "code",
   "execution_count": 13,
   "metadata": {},
   "outputs": [],
   "source": [
    "# run the cell\n",
    "sample = np.loadtxt(\"sample_2018.csv\", delimiter = \",\", usecols = 1)"
   ]
  },
  {
   "cell_type": "code",
   "execution_count": 14,
   "metadata": {},
   "outputs": [
    {
     "data": {
      "text/plain": [
       "array([ -1.51, -38.82,  55.94,  -7.68,  -5.78, -19.45,  69.77,  24.57,\n",
       "        -8.67,  27.33,  -4.01,   1.75,  10.27, -40.89,  21.37,  10.09,\n",
       "         1.58,  31.76,   2.42, -18.82, -35.18,  -0.53, -12.57,  14.6 ,\n",
       "        -6.13, -40.  ,  -6.26, -17.96, -21.67,  -1.27, -18.71, -36.66,\n",
       "       -21.19,  73.35,  -7.92, -53.22,   9.68, -39.13,  11.33,  26.38,\n",
       "       -12.66,  -3.12,  15.14,   7.24, -30.32, -37.61,  -2.06,  -8.35,\n",
       "       -27.64, -12.75, -38.5 ,   6.72, -26.09,  -3.22,  -1.29, -22.66,\n",
       "        -1.61,  -4.92,  17.94,   7.28, -17.38,   0.88, -13.62, -25.02,\n",
       "         3.7 , -32.68, -13.69, -32.24,  -7.86, -13.39,  -1.26, -24.43,\n",
       "        18.36, -16.87,   5.02,   1.95,  39.85, -32.45, -13.92, -30.35,\n",
       "       -43.77, -27.24, -20.29, -12.54, -22.78,  -7.9 , -26.42,  -2.6 ,\n",
       "       -26.65,   3.63,  14.76, -16.43, -40.18, -22.82,  -0.4 , -29.56,\n",
       "        31.05,  -6.6 , -15.14,  -6.13,   2.19, -20.98,   2.94, -21.81,\n",
       "       -14.23,  27.43,  46.76, -25.46,   4.38,  11.82,  -1.27, -25.03,\n",
       "       -19.76,  14.58,  12.35,   8.55, -67.37, -30.49, -40.94,  10.03,\n",
       "        31.74,  11.67,  12.85,   7.11,  -8.45, -11.39,  15.68, -10.08,\n",
       "       -13.21, -32.23,  -9.62, -10.39, -25.56,  -7.18, -24.19,  15.12,\n",
       "       -16.73, -32.27,   9.71,  -0.2 ,  10.1 ,   7.84, -47.73,  -6.87,\n",
       "       -18.25, -14.44,  -6.06,   2.42,   0.59,   2.39, -30.28, -45.75,\n",
       "       -35.5 , -24.52, -25.17,   7.59,  -9.97, -21.25,  -9.5 ,   1.04,\n",
       "       -21.96, -15.15, -18.9 , -22.15,   3.87,   2.36,   1.94, -12.18,\n",
       "       -13.63,   5.04,   7.06,  33.45,  13.52,   2.61,  -5.41,   2.87,\n",
       "       -37.47, -27.22,  -4.79, -24.52, -45.03, -44.78, -36.29,  21.69,\n",
       "        22.41,   7.14,  11.27, -22.97,  -8.54, -10.63,  -4.65, -22.64,\n",
       "         1.5 ,  -9.4 , -37.18,  61.  ,  -7.81, -23.66, -56.97, -13.62,\n",
       "       -34.63, -18.59,  -7.  , -17.25,  -0.89,  -0.64,   0.53,   2.29,\n",
       "       -24.78,   5.46, -36.01,  19.14, -45.86, -10.74, -18.34, -41.7 ,\n",
       "        39.47,   6.9 , -10.19, -14.94,  -0.25, -22.23, -20.17, -11.16,\n",
       "       -33.25,  -5.38, -11.04, -26.33,  -9.26,  -3.19,  -3.78,  16.43,\n",
       "        11.49, -15.97,  -6.35,  13.79, -26.33,   5.51,  18.86,  -5.92,\n",
       "       -13.35,  36.5 , -34.24,   4.81,   1.28,  24.13, -31.29,   1.34,\n",
       "       -46.29,  16.35,   2.1 , -14.15,  29.12,   2.08, -25.25, -54.71,\n",
       "       -18.92, -22.3 , -12.7 , -34.23,   7.11,  -8.91,  -6.14,  -9.45,\n",
       "        -2.81, -15.78, -27.57,  44.54, -43.97, -17.36, -15.65,  -6.17,\n",
       "       -15.38,  -2.56,   2.88,   0.47,  19.97,  -9.15, -10.23, -57.72,\n",
       "       -18.85, -24.97, -37.65, -21.94,  -7.39,   1.05, -41.09,  35.21,\n",
       "       -18.62, -33.65,  -1.31,  -1.15, -26.43, -28.56,  30.4 , -25.33,\n",
       "        19.17,  22.99,  -5.42, -34.32, -20.99, -34.23,   2.  , -18.48,\n",
       "       -29.44,  -5.6 ,  -6.8 ,  10.54, -19.66, -28.93, -57.52,  36.4 ,\n",
       "         2.87, -23.92,  -3.1 , -19.54, -22.52, -31.54,  12.31, -11.73,\n",
       "        33.94, -16.83, -24.97,  14.9 ,  17.36,  24.25, -17.4 , -10.  ,\n",
       "       -23.22,  -4.11, -35.55, -36.75, -21.16,   4.82,  10.58,  -8.13,\n",
       "        33.4 ,  -0.74,  17.25, -43.7 , -36.1 , -21.07, -28.46,  35.6 ,\n",
       "         2.15,   6.81, -17.14, -18.37, -30.93, -40.52, -30.96, -30.6 ,\n",
       "        11.1 ,  -0.88,  -0.7 ,  -5.2 ,  42.22, -17.91,  -5.01, -23.58,\n",
       "       -19.68,  -0.33,  -7.97,  18.61, -38.27,  -0.76,   5.91, -25.72,\n",
       "       -21.68, -31.71,   5.7 ,  -9.33, -36.33, -20.04, -21.34,   0.08,\n",
       "       -13.35,  -8.4 , -54.2 , -29.74,  -3.4 , -16.01, -32.7 , -23.24,\n",
       "       -24.5 ,  13.09, -11.26,  -8.72, -19.48,  -2.36, -15.48,  -3.55,\n",
       "       -22.74,   1.55, -17.39,  -1.84,  32.29, -24.16,  14.99,   1.86,\n",
       "         1.66,   6.39, -18.59,  -0.53,  10.38, -20.07, -30.61,  -4.99,\n",
       "       -18.76, -24.41, -45.69, -20.91, -17.24,  -1.88,  -8.61,  -2.12,\n",
       "        -0.65,   0.33, -22.93, -34.97,  -8.34, -28.75, -29.97, -29.2 ,\n",
       "       -39.13,  -0.03, -33.86,   2.55, -26.8 , -31.84,  22.09, -21.35,\n",
       "         2.28,  -0.44, -23.89,  14.6 ,  17.15,  -0.43, -23.56,  55.4 ,\n",
       "       -12.95, -12.83,  11.32, -35.44,  -4.75,  18.41, -10.18, -19.33,\n",
       "        20.05,  21.41,  23.4 ,   2.21,   2.51,   7.06,  11.69, -47.17,\n",
       "         2.  , -18.98, -40.96, -15.62, -17.43,  14.84,   0.76,  -4.64,\n",
       "       -15.97, -20.05, -24.38, -20.56,  12.56,  28.35,   7.71,  -1.08,\n",
       "         4.42, -15.87,  -4.36,  -6.29,  15.33, -53.8 ,   3.88,   8.78,\n",
       "       -24.54, -36.39,   0.16,   1.91, -29.55,  -6.7 , -41.04, -10.36,\n",
       "       -38.09, -42.32, -49.8 ,   2.37,  25.1 , -18.5 , -43.64, -32.59,\n",
       "        -4.25,  12.25, -20.46,  17.28])"
      ]
     },
     "execution_count": 14,
     "metadata": {},
     "output_type": "execute_result"
    }
   ],
   "source": [
    "pop"
   ]
  },
  {
   "cell_type": "markdown",
   "metadata": {},
   "source": [
    "2. Double check the __size__ of pop and sample. "
   ]
  },
  {
   "cell_type": "code",
   "execution_count": 15,
   "metadata": {},
   "outputs": [
    {
     "data": {
      "text/plain": [
       "500"
      ]
     },
     "execution_count": 15,
     "metadata": {},
     "output_type": "execute_result"
    }
   ],
   "source": [
    "pop.size"
   ]
  },
  {
   "cell_type": "code",
   "execution_count": 16,
   "metadata": {},
   "outputs": [
    {
     "data": {
      "text/plain": [
       "array([ -3.19,  -0.74, -10.  ,  -0.65,  -6.8 , -10.39, -19.45, -21.35,\n",
       "       -23.89, -24.19,  19.97,  -2.81,  -7.92,   2.88, -42.32,   1.75,\n",
       "       -54.2 , -20.56,  -0.03,  36.5 , -22.82, -57.52, -10.63,  -9.15,\n",
       "         9.71, -21.16, -23.92,   7.28, -45.86,  33.45,   0.08,  -7.9 ,\n",
       "       -27.57,   9.68, -15.38,  35.21,   7.14,  17.25,  73.35,  35.6 ,\n",
       "        18.61,  27.33,  -0.89,   4.42, -27.64, -18.85,  10.09,  22.41,\n",
       "        -6.13, -20.29])"
      ]
     },
     "execution_count": 16,
     "metadata": {},
     "output_type": "execute_result"
    }
   ],
   "source": [
    "sample"
   ]
  },
  {
   "cell_type": "code",
   "execution_count": 17,
   "metadata": {},
   "outputs": [
    {
     "data": {
      "text/plain": [
       "50"
      ]
     },
     "execution_count": 17,
     "metadata": {},
     "output_type": "execute_result"
    }
   ],
   "source": [
    "sample.size"
   ]
  },
  {
   "cell_type": "markdown",
   "metadata": {},
   "source": [
    "3. Double check, whether all element of the sample are also in the population. "
   ]
  },
  {
   "cell_type": "code",
   "execution_count": 18,
   "metadata": {},
   "outputs": [
    {
     "data": {
      "text/plain": [
       "array([ True,  True,  True,  True,  True,  True,  True,  True,  True,\n",
       "        True,  True,  True,  True,  True,  True,  True,  True,  True,\n",
       "        True,  True,  True,  True,  True,  True,  True,  True,  True,\n",
       "        True,  True,  True,  True,  True,  True,  True,  True,  True,\n",
       "        True,  True,  True,  True,  True,  True,  True,  True,  True,\n",
       "        True,  True,  True,  True,  True])"
      ]
     },
     "execution_count": 18,
     "metadata": {},
     "output_type": "execute_result"
    }
   ],
   "source": [
    "np.isin(sample, pop)"
   ]
  },
  {
   "cell_type": "code",
   "execution_count": null,
   "metadata": {},
   "outputs": [],
   "source": []
  },
  {
   "cell_type": "markdown",
   "metadata": {},
   "source": [
    "Calculate the following statistics for the population and the sample:"
   ]
  },
  {
   "cell_type": "markdown",
   "metadata": {},
   "source": [
    "4. __mean__"
   ]
  },
  {
   "cell_type": "code",
   "execution_count": 20,
   "metadata": {},
   "outputs": [
    {
     "data": {
      "text/plain": [
       "-8.98877724334972"
      ]
     },
     "execution_count": 20,
     "metadata": {},
     "output_type": "execute_result"
    }
   ],
   "source": [
    "pop.mean()"
   ]
  },
  {
   "cell_type": "code",
   "execution_count": 21,
   "metadata": {},
   "outputs": [
    {
     "data": {
      "text/plain": [
       "-3.8301530353346083"
      ]
     },
     "execution_count": 21,
     "metadata": {},
     "output_type": "execute_result"
    }
   ],
   "source": [
    "sample.mean()"
   ]
  },
  {
   "cell_type": "code",
   "execution_count": null,
   "metadata": {},
   "outputs": [],
   "source": []
  },
  {
   "cell_type": "markdown",
   "metadata": {},
   "source": [
    "5. __median__"
   ]
  },
  {
   "cell_type": "code",
   "execution_count": 24,
   "metadata": {},
   "outputs": [
    {
     "data": {
      "text/plain": [
       "-9.031465461675243"
      ]
     },
     "execution_count": 24,
     "metadata": {},
     "output_type": "execute_result"
    }
   ],
   "source": [
    "np.median(pop)"
   ]
  },
  {
   "cell_type": "code",
   "execution_count": 25,
   "metadata": {},
   "outputs": [
    {
     "data": {
      "text/plain": [
       "-4.661821993041453"
      ]
     },
     "execution_count": 25,
     "metadata": {},
     "output_type": "execute_result"
    }
   ],
   "source": [
    "np.median(sample)"
   ]
  },
  {
   "cell_type": "code",
   "execution_count": null,
   "metadata": {},
   "outputs": [],
   "source": []
  },
  {
   "cell_type": "code",
   "execution_count": null,
   "metadata": {},
   "outputs": [],
   "source": []
  },
  {
   "cell_type": "markdown",
   "metadata": {},
   "source": [
    "6. __min__ "
   ]
  },
  {
   "cell_type": "code",
   "execution_count": 26,
   "metadata": {},
   "outputs": [
    {
     "data": {
      "text/plain": [
       "-67.37053795877326"
      ]
     },
     "execution_count": 26,
     "metadata": {},
     "output_type": "execute_result"
    }
   ],
   "source": [
    "pop.min()"
   ]
  },
  {
   "cell_type": "code",
   "execution_count": 27,
   "metadata": {},
   "outputs": [
    {
     "data": {
      "text/plain": [
       "-57.52084088437839"
      ]
     },
     "execution_count": 27,
     "metadata": {},
     "output_type": "execute_result"
    }
   ],
   "source": [
    "sample.min()"
   ]
  },
  {
   "cell_type": "code",
   "execution_count": null,
   "metadata": {},
   "outputs": [],
   "source": []
  },
  {
   "cell_type": "markdown",
   "metadata": {},
   "source": [
    "7. __variance__"
   ]
  },
  {
   "cell_type": "code",
   "execution_count": 28,
   "metadata": {},
   "outputs": [
    {
     "data": {
      "text/plain": [
       "446.0766463478168"
      ]
     },
     "execution_count": 28,
     "metadata": {},
     "output_type": "execute_result"
    }
   ],
   "source": [
    "pop.var()"
   ]
  },
  {
   "cell_type": "code",
   "execution_count": 29,
   "metadata": {},
   "outputs": [
    {
     "data": {
      "text/plain": [
       "591.5128797201904"
      ]
     },
     "execution_count": 29,
     "metadata": {},
     "output_type": "execute_result"
    }
   ],
   "source": [
    "sample.var()"
   ]
  },
  {
   "cell_type": "code",
   "execution_count": null,
   "metadata": {},
   "outputs": [],
   "source": []
  },
  {
   "cell_type": "markdown",
   "metadata": {},
   "source": [
    "8. __standard deviation__"
   ]
  },
  {
   "cell_type": "code",
   "execution_count": 31,
   "metadata": {},
   "outputs": [
    {
     "data": {
      "text/plain": [
       "21.120526658864755"
      ]
     },
     "execution_count": 31,
     "metadata": {},
     "output_type": "execute_result"
    }
   ],
   "source": [
    "pop.std()"
   ]
  },
  {
   "cell_type": "code",
   "execution_count": 32,
   "metadata": {},
   "outputs": [
    {
     "data": {
      "text/plain": [
       "24.321037801051798"
      ]
     },
     "execution_count": 32,
     "metadata": {},
     "output_type": "execute_result"
    }
   ],
   "source": [
    "sample.std()"
   ]
  },
  {
   "cell_type": "code",
   "execution_count": 33,
   "metadata": {},
   "outputs": [
    {
     "data": {
      "text/plain": [
       "21.120526658864755"
      ]
     },
     "execution_count": 33,
     "metadata": {},
     "output_type": "execute_result"
    }
   ],
   "source": [
    "np.std(pop)"
   ]
  },
  {
   "cell_type": "markdown",
   "metadata": {},
   "source": [
    "9. __25th__ and __75th percentile__"
   ]
  },
  {
   "cell_type": "code",
   "execution_count": 34,
   "metadata": {},
   "outputs": [
    {
     "data": {
      "text/plain": [
       "array([-23.56,   2.52])"
      ]
     },
     "execution_count": 34,
     "metadata": {},
     "output_type": "execute_result"
    }
   ],
   "source": [
    "np.percentile(pop,[25, 75])"
   ]
  },
  {
   "cell_type": "code",
   "execution_count": 35,
   "metadata": {},
   "outputs": [
    {
     "data": {
      "text/plain": [
       "array([-20.49,   9.08])"
      ]
     },
     "execution_count": 35,
     "metadata": {},
     "output_type": "execute_result"
    }
   ],
   "source": [
    "np.percentile(sample,[25, 75])"
   ]
  },
  {
   "cell_type": "code",
   "execution_count": null,
   "metadata": {},
   "outputs": [],
   "source": []
  },
  {
   "cell_type": "markdown",
   "metadata": {},
   "source": [
    "10. __skew__"
   ]
  },
  {
   "cell_type": "code",
   "execution_count": 45,
   "metadata": {},
   "outputs": [],
   "source": [
    "import scipy.stats as stats"
   ]
  },
  {
   "cell_type": "code",
   "execution_count": 46,
   "metadata": {},
   "outputs": [
    {
     "data": {
      "text/plain": [
       "0.41505283064889537"
      ]
     },
     "execution_count": 46,
     "metadata": {},
     "output_type": "execute_result"
    }
   ],
   "source": [
    "stats.skew(pop)"
   ]
  },
  {
   "cell_type": "code",
   "execution_count": 47,
   "metadata": {},
   "outputs": [
    {
     "data": {
      "text/plain": [
       "0.4033836769438737"
      ]
     },
     "execution_count": 47,
     "metadata": {},
     "output_type": "execute_result"
    }
   ],
   "source": [
    "stats.skew(sample)"
   ]
  },
  {
   "cell_type": "code",
   "execution_count": null,
   "metadata": {},
   "outputs": [],
   "source": []
  },
  {
   "cell_type": "markdown",
   "metadata": {},
   "source": [
    "11. __kurtosis__"
   ]
  },
  {
   "cell_type": "code",
   "execution_count": 48,
   "metadata": {},
   "outputs": [
    {
     "data": {
      "text/plain": [
       "0.6618700837691662"
      ]
     },
     "execution_count": 48,
     "metadata": {},
     "output_type": "execute_result"
    }
   ],
   "source": [
    "stats.kurtosis(pop)"
   ]
  },
  {
   "cell_type": "code",
   "execution_count": 49,
   "metadata": {},
   "outputs": [
    {
     "data": {
      "text/plain": [
       "0.9397205267334039"
      ]
     },
     "execution_count": 49,
     "metadata": {},
     "output_type": "execute_result"
    }
   ],
   "source": [
    "stats.kurtosis(sample)"
   ]
  },
  {
   "cell_type": "code",
   "execution_count": null,
   "metadata": {},
   "outputs": [],
   "source": [
    "stats."
   ]
  },
  {
   "cell_type": "markdown",
   "metadata": {},
   "source": [
    "12. Create a __histogram__ with __absolute frequencies__ for the __population__ (75 bins)."
   ]
  },
  {
   "cell_type": "code",
   "execution_count": 39,
   "metadata": {},
   "outputs": [],
   "source": [
    "import matplotlib.pyplot as plt"
   ]
  },
  {
   "cell_type": "code",
   "execution_count": 42,
   "metadata": {},
   "outputs": [
    {
     "data": {
      "text/plain": [
       "<function matplotlib.pyplot.show(*args, **kw)>"
      ]
     },
     "execution_count": 42,
     "metadata": {},
     "output_type": "execute_result"
    },
    {
     "data": {
      "image/png": "[encoded data removed]",
      "text/plain": [
       "<Figure size 864x576 with 1 Axes>"
      ]
     },
     "metadata": {
      "needs_background": "light"
     },
     "output_type": "display_data"
    }
   ],
   "source": [
    "plt.figure(figsize = (12, 8))\n",
    "plt.hist(pop, bins = 75)\n",
    "plt.title(\"Absolute Frequencies - Population\", fontsize = 20)\n",
    "plt.xlabel(\"Stock Returns 2018 (in %)\", fontsize = 15)\n",
    "plt.ylabel(\"Absolute Frequency\", fontsize = 15)\n",
    "plt.xticks(np.arange(-100, 100, 25))\n",
    "plt.show"
   ]
  },
  {
   "cell_type": "code",
   "execution_count": null,
   "metadata": {
    "scrolled": true
   },
   "outputs": [],
   "source": []
  },
  {
   "cell_type": "code",
   "execution_count": null,
   "metadata": {},
   "outputs": [],
   "source": []
  },
  {
   "cell_type": "markdown",
   "metadata": {},
   "source": [
    "# Well Done!"
   ]
  },
  {
   "cell_type": "markdown",
   "metadata": {},
   "source": [
    "---------------------------------------------------------------------------------------------------------------------"
   ]
  },
  {
   "cell_type": "markdown",
   "metadata": {},
   "source": [
    "# Solutions (Stop here if you want to code on your own!)"
   ]
  },
  {
   "cell_type": "markdown",
   "metadata": {},
   "source": [
    "# ++++++++++++++++++++++++++++++++++++++++++++++++++++++++++++++"
   ]
  },
  {
   "cell_type": "code",
   "execution_count": null,
   "metadata": {},
   "outputs": [],
   "source": []
  },
  {
   "cell_type": "markdown",
   "metadata": {},
   "source": [
    "1. Import numpy and the S&P500 price returns (in %) for the year 2018 for the complete population (size = 500) as well as for a random sample (sample size = 50). "
   ]
  },
  {
   "cell_type": "code",
   "execution_count": null,
   "metadata": {},
   "outputs": [],
   "source": [
    "# run the cell\n",
    "import numpy as np\n",
    "np.set_printoptions(precision=2, suppress= True)"
   ]
  },
  {
   "cell_type": "code",
   "execution_count": null,
   "metadata": {},
   "outputs": [],
   "source": [
    "# run the cell\n",
    "pop = np.loadtxt(\"SP500_2018.csv\", delimiter = \",\", usecols = 1)"
   ]
  },
  {
   "cell_type": "code",
   "execution_count": null,
   "metadata": {},
   "outputs": [],
   "source": [
    "# run the cell\n",
    "sample = np.loadtxt(\"sample_2018.csv\", delimiter = \",\", usecols = 1)"
   ]
  },
  {
   "cell_type": "code",
   "execution_count": null,
   "metadata": {},
   "outputs": [],
   "source": []
  },
  {
   "cell_type": "markdown",
   "metadata": {},
   "source": [
    "2. Double check the __size__ of pop and sample. "
   ]
  },
  {
   "cell_type": "code",
   "execution_count": null,
   "metadata": {},
   "outputs": [],
   "source": [
    "pop.size"
   ]
  },
  {
   "cell_type": "code",
   "execution_count": null,
   "metadata": {},
   "outputs": [],
   "source": [
    "sample.mean()"
   ]
  },
  {
   "cell_type": "code",
   "execution_count": null,
   "metadata": {},
   "outputs": [],
   "source": []
  },
  {
   "cell_type": "markdown",
   "metadata": {},
   "source": [
    "3. Double check, whether all element of the sample are also in the population. "
   ]
  },
  {
   "cell_type": "code",
   "execution_count": null,
   "metadata": {},
   "outputs": [],
   "source": [
    "np.isin(sample, pop)"
   ]
  },
  {
   "cell_type": "code",
   "execution_count": null,
   "metadata": {},
   "outputs": [],
   "source": []
  },
  {
   "cell_type": "markdown",
   "metadata": {},
   "source": [
    "Calculate the following statistics for the population and the sample:"
   ]
  },
  {
   "cell_type": "markdown",
   "metadata": {},
   "source": [
    "4. __mean__"
   ]
  },
  {
   "cell_type": "code",
   "execution_count": null,
   "metadata": {},
   "outputs": [],
   "source": [
    "pop.mean()"
   ]
  },
  {
   "cell_type": "code",
   "execution_count": null,
   "metadata": {},
   "outputs": [],
   "source": [
    "sample.mean()"
   ]
  },
  {
   "cell_type": "code",
   "execution_count": null,
   "metadata": {},
   "outputs": [],
   "source": []
  },
  {
   "cell_type": "markdown",
   "metadata": {},
   "source": [
    "5. __median__"
   ]
  },
  {
   "cell_type": "code",
   "execution_count": null,
   "metadata": {},
   "outputs": [],
   "source": [
    "np.median(pop)"
   ]
  },
  {
   "cell_type": "code",
   "execution_count": null,
   "metadata": {},
   "outputs": [],
   "source": [
    "np.median(sample)"
   ]
  },
  {
   "cell_type": "code",
   "execution_count": null,
   "metadata": {},
   "outputs": [],
   "source": []
  },
  {
   "cell_type": "markdown",
   "metadata": {},
   "source": [
    "6. __min__ "
   ]
  },
  {
   "cell_type": "code",
   "execution_count": null,
   "metadata": {},
   "outputs": [],
   "source": [
    "pop.min()"
   ]
  },
  {
   "cell_type": "code",
   "execution_count": null,
   "metadata": {},
   "outputs": [],
   "source": [
    "sample.min()"
   ]
  },
  {
   "cell_type": "code",
   "execution_count": null,
   "metadata": {},
   "outputs": [],
   "source": []
  },
  {
   "cell_type": "markdown",
   "metadata": {},
   "source": [
    "7. __variance__"
   ]
  },
  {
   "cell_type": "code",
   "execution_count": null,
   "metadata": {},
   "outputs": [],
   "source": [
    "pop.var()"
   ]
  },
  {
   "cell_type": "code",
   "execution_count": null,
   "metadata": {},
   "outputs": [],
   "source": [
    "sample.var(ddof = 1)"
   ]
  },
  {
   "cell_type": "code",
   "execution_count": null,
   "metadata": {},
   "outputs": [],
   "source": []
  },
  {
   "cell_type": "markdown",
   "metadata": {},
   "source": [
    "8. __standard deviation__"
   ]
  },
  {
   "cell_type": "code",
   "execution_count": null,
   "metadata": {},
   "outputs": [],
   "source": [
    "pop.std()"
   ]
  },
  {
   "cell_type": "code",
   "execution_count": null,
   "metadata": {},
   "outputs": [],
   "source": [
    "sample.std(ddof = 1)"
   ]
  },
  {
   "cell_type": "code",
   "execution_count": null,
   "metadata": {},
   "outputs": [],
   "source": []
  },
  {
   "cell_type": "markdown",
   "metadata": {},
   "source": [
    "9. __25th__ and __75th percentile__"
   ]
  },
  {
   "cell_type": "code",
   "execution_count": null,
   "metadata": {},
   "outputs": [],
   "source": [
    "np.percentile(pop, [25, 75])"
   ]
  },
  {
   "cell_type": "code",
   "execution_count": null,
   "metadata": {},
   "outputs": [],
   "source": [
    "np.percentile(sample, [25, 75])"
   ]
  },
  {
   "cell_type": "code",
   "execution_count": null,
   "metadata": {},
   "outputs": [],
   "source": []
  },
  {
   "cell_type": "markdown",
   "metadata": {},
   "source": [
    "10. __skew__"
   ]
  },
  {
   "cell_type": "code",
   "execution_count": null,
   "metadata": {},
   "outputs": [],
   "source": [
    "import scipy.stats as stats"
   ]
  },
  {
   "cell_type": "code",
   "execution_count": null,
   "metadata": {},
   "outputs": [],
   "source": [
    "stats.skew(pop)"
   ]
  },
  {
   "cell_type": "code",
   "execution_count": null,
   "metadata": {},
   "outputs": [],
   "source": [
    "stats.skew(sample)"
   ]
  },
  {
   "cell_type": "code",
   "execution_count": null,
   "metadata": {},
   "outputs": [],
   "source": []
  },
  {
   "cell_type": "markdown",
   "metadata": {},
   "source": [
    "11. __kurtosis__"
   ]
  },
  {
   "cell_type": "code",
   "execution_count": null,
   "metadata": {},
   "outputs": [],
   "source": [
    "stats.kurtosis(pop)"
   ]
  },
  {
   "cell_type": "code",
   "execution_count": null,
   "metadata": {},
   "outputs": [],
   "source": [
    "stats.kurtosis(sample)"
   ]
  },
  {
   "cell_type": "code",
   "execution_count": null,
   "metadata": {},
   "outputs": [],
   "source": []
  },
  {
   "cell_type": "markdown",
   "metadata": {},
   "source": [
    "12. Create a __histogram__ with __absolute frequencies__ for the __population__ (75 bins)."
   ]
  },
  {
   "cell_type": "code",
   "execution_count": 37,
   "metadata": {},
   "outputs": [],
   "source": [
    "import matplotlib.pyplot as plt"
   ]
  },
  {
   "cell_type": "code",
   "execution_count": 38,
   "metadata": {
    "scrolled": true
   },
   "outputs": [
    {
     "data": {
      "image/png": "[encoded data removed]",
      "text/plain": [
       "<Figure size 864x576 with 1 Axes>"
      ]
     },
     "metadata": {
      "needs_background": "light"
     },
     "output_type": "display_data"
    }
   ],
   "source": [
    "plt.figure(figsize = (12, 8))\n",
    "plt.hist(pop, bins = 75)\n",
    "plt.title(\"Absolute Frequencies - Population\", fontsize = 20)\n",
    "plt.xlabel(\"Stock Returns 2018 (in %)\", fontsize = 15)\n",
    "plt.ylabel(\"Absolute Frequency\", fontsize = 15)\n",
    "plt.xticks(np.arange(-100, 100, 10))\n",
    "plt.show()"
   ]
  },
  {
   "cell_type": "code",
   "execution_count": null,
   "metadata": {},
   "outputs": [],
   "source": []
  }
 ],
 "metadata": {
  "kernelspec": {
   "display_name": "Python 3",
   "language": "python",
   "name": "python3"
  },
  "language_info": {
   "codemirror_mode": {
    "name": "ipython",
    "version": 3
   },
   "file_extension": ".py",
   "mimetype": "text/x-python",
   "name": "python",
   "nbconvert_exporter": "python",
   "pygments_lexer": "ipython3",
   "version": "3.7.3"
  }
 },
 "nbformat": 4,
 "nbformat_minor": 2
}
